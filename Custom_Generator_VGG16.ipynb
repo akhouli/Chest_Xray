{
  "nbformat": 4,
  "nbformat_minor": 0,
  "metadata": {
    "colab": {
      "name": "Clean Code 24th July",
      "version": "0.3.2",
      "provenance": [],
      "toc_visible": true
    },
    "kernelspec": {
      "name": "python3",
      "display_name": "Python 3"
    },
    "accelerator": "GPU"
  },
  "cells": [
    {
      "cell_type": "markdown",
      "metadata": {
        "id": "Mi6qyv9kLOLf",
        "colab_type": "text"
      },
      "source": [
        "###Mounting Google Drive"
      ]
    },
    {
      "cell_type": "code",
      "metadata": {
        "id": "b0xoyLmhK-i6",
        "colab_type": "code",
        "colab": {
          "base_uri": "https://localhost:8080/",
          "height": 122
        },
        "outputId": "976b186b-7993-4c38-e973-7d4decc9b1b1"
      },
      "source": [
        "from google.colab import drive\n",
        "drive.mount('/content/drive')"
      ],
      "execution_count": 1,
      "outputs": [
        {
          "output_type": "stream",
          "text": [
            "Go to this URL in a browser: https://accounts.google.com/o/oauth2/auth?client_id=947318989803-6bn6qk8qdgf4n4g3pfee6491hc0brc4i.apps.googleusercontent.com&redirect_uri=urn%3Aietf%3Awg%3Aoauth%3A2.0%3Aoob&scope=email%20https%3A%2F%2Fwww.googleapis.com%2Fauth%2Fdocs.test%20https%3A%2F%2Fwww.googleapis.com%2Fauth%2Fdrive%20https%3A%2F%2Fwww.googleapis.com%2Fauth%2Fdrive.photos.readonly%20https%3A%2F%2Fwww.googleapis.com%2Fauth%2Fpeopleapi.readonly&response_type=code\n",
            "\n",
            "Enter your authorization code:\n",
            "··········\n",
            "Mounted at /content/drive\n"
          ],
          "name": "stdout"
        }
      ]
    },
    {
      "cell_type": "markdown",
      "metadata": {
        "id": "Jx7ews5wLUd7",
        "colab_type": "text"
      },
      "source": [
        "###Importing Libraries"
      ]
    },
    {
      "cell_type": "code",
      "metadata": {
        "id": "Tn0Cq2Y-LUMM",
        "colab_type": "code",
        "colab": {}
      },
      "source": [
        "import os\n",
        "import cv2\n",
        "import random\n",
        "\n",
        "import pandas as pd\n",
        "import numpy as np\n",
        "\n",
        "from pathlib import Path\n",
        "%matplotlib inline\n",
        "import matplotlib.pyplot as plt\n",
        "import seaborn as sns \n",
        "\n",
        "import tensorflow as tf\n",
        "import keras\n",
        "import keras.backend as K\n",
        "import keras.layers\n",
        "from keras.utils.np_utils import to_categorical\n",
        "from keras.models import Model\n",
        "from keras.models import Sequential\n",
        "from keras.layers import Conv2D, MaxPooling2D, Dense, Dropout, Input, Flatten, SeparableConv2D, concatenate, BatchNormalization, GlobalMaxPooling2D, GlobalAveragePooling2D\n",
        "from keras.layers.normalization import BatchNormalization\n",
        "from keras.layers.merge import Concatenate\n",
        "from keras.optimizers import Adam, SGD, RMSprop\n",
        "from keras.callbacks import ModelCheckpoint, Callback, EarlyStopping, ReduceLROnPlateau\n",
        "from keras.utils import to_categorical\n",
        "from keras.preprocessing.image import ImageDataGenerator, array_to_img, img_to_array, load_img\n",
        "\n",
        "from sklearn.model_selection import train_test_split\n",
        "from sklearn.preprocessing import StandardScaler\n",
        "from mlxtend.plotting import plot_confusion_matrix\n",
        "from sklearn.metrics import confusion_matrix\n",
        "\n",
        "import skimage\n",
        "from skimage.io import imread\n",
        "from skimage.transform import resize\n",
        "from sklearn.utils import shuffle\n",
        "\n",
        "import imgaug as aug\n",
        "import imgaug.augmenters as img_aug\n",
        "\n",
        "import tqdm"
      ],
      "execution_count": 0,
      "outputs": []
    },
    {
      "cell_type": "markdown",
      "metadata": {
        "id": "SdSQePzxLev6",
        "colab_type": "text"
      },
      "source": [
        "###Clear The model"
      ]
    },
    {
      "cell_type": "code",
      "metadata": {
        "id": "uCiIs35ELhNh",
        "colab_type": "code",
        "colab": {}
      },
      "source": [
        "tf.reset_default_graph()\n",
        "K.clear_session()"
      ],
      "execution_count": 0,
      "outputs": []
    },
    {
      "cell_type": "markdown",
      "metadata": {
        "id": "XFtStCvwNKax",
        "colab_type": "text"
      },
      "source": [
        "##Data Analysis"
      ]
    },
    {
      "cell_type": "code",
      "metadata": {
        "id": "yfwxwyv0LmPI",
        "colab_type": "code",
        "colab": {}
      },
      "source": [
        "#Get all The images in the Normal Directory\n",
        "train_normal =  Path(\"../content/drive/My Drive/Colab Notebooks/chest_xray/train/NORMAL/\").glob('*.jpeg')\n",
        "\n",
        "#Get all the images in the Pneumonia Directory\n",
        "train_pneumonia =  Path(\"../content/drive/My Drive/Colab Notebooks/chest_xray/train/PNEUMONIA/\").glob('*.jpeg')\n"
      ],
      "execution_count": 0,
      "outputs": []
    },
    {
      "cell_type": "code",
      "metadata": {
        "id": "W9wM4HczL68O",
        "colab_type": "code",
        "colab": {}
      },
      "source": [
        "#Create list to contain all images, as well as their labels\n",
        "train_images = []"
      ],
      "execution_count": 0,
      "outputs": []
    },
    {
      "cell_type": "code",
      "metadata": {
        "id": "9KmOaNuMSvUM",
        "colab_type": "code",
        "colab": {}
      },
      "source": [
        "#Appending Normal Images to list, with label = 0\n",
        "for img in train_normal:\n",
        "    train_images.append((img,0))"
      ],
      "execution_count": 0,
      "outputs": []
    },
    {
      "cell_type": "code",
      "metadata": {
        "id": "Ly8xJqEWStw3",
        "colab_type": "code",
        "colab": {}
      },
      "source": [
        "#Appending Pneumonia Images to list, with label = 1\n",
        "#Use counter to split the data equally, benchmarked with the number of Normal images\n",
        "i=0\n",
        "for img in train_pneumonia:\n",
        "    train_images.append((img,1))\n",
        "    i=i+1\n",
        "    if i == 1341:\n",
        "      break"
      ],
      "execution_count": 0,
      "outputs": []
    },
    {
      "cell_type": "code",
      "metadata": {
        "id": "LygymuP8LkTW",
        "colab_type": "code",
        "colab": {}
      },
      "source": [
        "#Shuffling the data    \n",
        "random.shuffle(train_images)\n",
        "\n",
        "#create a datframe with columns xray and label\n",
        "train_images = pd.DataFrame(train_images, columns=['xray', 'label'],index=None)"
      ],
      "execution_count": 0,
      "outputs": []
    },
    {
      "cell_type": "code",
      "metadata": {
        "id": "yMLC7o0PLkt8",
        "colab_type": "code",
        "colab": {
          "base_uri": "https://localhost:8080/",
          "height": 204
        },
        "outputId": "7681759e-034c-439a-8ce9-848495721b60"
      },
      "source": [
        "#Display top 5 \n",
        "train_images.head()"
      ],
      "execution_count": 15,
      "outputs": [
        {
          "output_type": "execute_result",
          "data": {
            "text/html": [
              "<div>\n",
              "<style scoped>\n",
              "    .dataframe tbody tr th:only-of-type {\n",
              "        vertical-align: middle;\n",
              "    }\n",
              "\n",
              "    .dataframe tbody tr th {\n",
              "        vertical-align: top;\n",
              "    }\n",
              "\n",
              "    .dataframe thead th {\n",
              "        text-align: right;\n",
              "    }\n",
              "</style>\n",
              "<table border=\"1\" class=\"dataframe\">\n",
              "  <thead>\n",
              "    <tr style=\"text-align: right;\">\n",
              "      <th></th>\n",
              "      <th>xray</th>\n",
              "      <th>label</th>\n",
              "    </tr>\n",
              "  </thead>\n",
              "  <tbody>\n",
              "    <tr>\n",
              "      <th>0</th>\n",
              "      <td>../content/drive/My Drive/Colab Notebooks/ches...</td>\n",
              "      <td>0</td>\n",
              "    </tr>\n",
              "    <tr>\n",
              "      <th>1</th>\n",
              "      <td>../content/drive/My Drive/Colab Notebooks/ches...</td>\n",
              "      <td>1</td>\n",
              "    </tr>\n",
              "    <tr>\n",
              "      <th>2</th>\n",
              "      <td>../content/drive/My Drive/Colab Notebooks/ches...</td>\n",
              "      <td>0</td>\n",
              "    </tr>\n",
              "    <tr>\n",
              "      <th>3</th>\n",
              "      <td>../content/drive/My Drive/Colab Notebooks/ches...</td>\n",
              "      <td>0</td>\n",
              "    </tr>\n",
              "    <tr>\n",
              "      <th>4</th>\n",
              "      <td>../content/drive/My Drive/Colab Notebooks/ches...</td>\n",
              "      <td>1</td>\n",
              "    </tr>\n",
              "  </tbody>\n",
              "</table>\n",
              "</div>"
            ],
            "text/plain": [
              "                                                xray  label\n",
              "0  ../content/drive/My Drive/Colab Notebooks/ches...      0\n",
              "1  ../content/drive/My Drive/Colab Notebooks/ches...      1\n",
              "2  ../content/drive/My Drive/Colab Notebooks/ches...      0\n",
              "3  ../content/drive/My Drive/Colab Notebooks/ches...      0\n",
              "4  ../content/drive/My Drive/Colab Notebooks/ches...      1"
            ]
          },
          "metadata": {
            "tags": []
          },
          "execution_count": 15
        }
      ]
    },
    {
      "cell_type": "code",
      "metadata": {
        "id": "FzdJ06w0N-Ku",
        "colab_type": "code",
        "colab": {
          "base_uri": "https://localhost:8080/",
          "height": 68
        },
        "outputId": "bcfa1e93-df8a-49a2-94b3-5d3de6414943"
      },
      "source": [
        "#Check if data is split equally\n",
        "train_images['label'].value_counts()"
      ],
      "execution_count": 16,
      "outputs": [
        {
          "output_type": "execute_result",
          "data": {
            "text/plain": [
              "1    1341\n",
              "0    1341\n",
              "Name: label, dtype: int64"
            ]
          },
          "metadata": {
            "tags": []
          },
          "execution_count": 16
        }
      ]
    },
    {
      "cell_type": "markdown",
      "metadata": {
        "id": "JbTYCo-RONmL",
        "colab_type": "text"
      },
      "source": [
        "##Train/Validation split (90%/10%) \n",
        "###Total samples 2682\n",
        "###Validation Samples(10% of 2682) = 268 "
      ]
    },
    {
      "cell_type": "code",
      "metadata": {
        "id": "NS98mdKYOJ62",
        "colab_type": "code",
        "colab": {}
      },
      "source": [
        "valid_data = (train_images).iloc[:268]"
      ],
      "execution_count": 0,
      "outputs": []
    },
    {
      "cell_type": "code",
      "metadata": {
        "id": "Wwg339UqO34N",
        "colab_type": "code",
        "colab": {
          "base_uri": "https://localhost:8080/",
          "height": 68
        },
        "outputId": "87ddb3d3-8e90-4b48-8c3e-8e8008c50db8"
      },
      "source": [
        "valid_data['label'].value_counts()"
      ],
      "execution_count": 18,
      "outputs": [
        {
          "output_type": "execute_result",
          "data": {
            "text/plain": [
              "0    146\n",
              "1    122\n",
              "Name: label, dtype: int64"
            ]
          },
          "metadata": {
            "tags": []
          },
          "execution_count": 18
        }
      ]
    },
    {
      "cell_type": "code",
      "metadata": {
        "id": "lvhSXHJwO6tN",
        "colab_type": "code",
        "colab": {}
      },
      "source": [
        "train_data = (train_images).iloc[268:]"
      ],
      "execution_count": 0,
      "outputs": []
    },
    {
      "cell_type": "code",
      "metadata": {
        "id": "Aq_wQrzpO-uv",
        "colab_type": "code",
        "colab": {
          "base_uri": "https://localhost:8080/",
          "height": 68
        },
        "outputId": "4be4cacc-06cc-4670-9fbe-cb2765298447"
      },
      "source": [
        "train_data['label'].value_counts()"
      ],
      "execution_count": 20,
      "outputs": [
        {
          "output_type": "execute_result",
          "data": {
            "text/plain": [
              "1    1219\n",
              "0    1195\n",
              "Name: label, dtype: int64"
            ]
          },
          "metadata": {
            "tags": []
          },
          "execution_count": 20
        }
      ]
    },
    {
      "cell_type": "code",
      "metadata": {
        "id": "mK4frvNRPKiI",
        "colab_type": "code",
        "colab": {
          "base_uri": "https://localhost:8080/",
          "height": 538
        },
        "outputId": "8ac1a335-cca5-4536-da64-4bec28f3b7a0"
      },
      "source": [
        "data_split = train_data['label'].value_counts()\n",
        "print(data_split)\n",
        "print(\"Percentages :\")\n",
        "print(100. * train_data.label.value_counts() / len(train_data.label))\n",
        "\n",
        "plt.figure(figsize=(9,6))\n",
        "sns.barplot(x=data_split.index, y=data_split.values)\n",
        "plt.title('Data Split', fontsize = 20, color='white')\n",
        "plt.xlabel('Type', fontsize =15, color='white')\n",
        "plt.ylabel('Number of Images',fontsize =15, color='white')\n",
        "plt.xticks(range(len(data_split.index)), [\"Normal\", \"Pneumonia\"],fontsize = 15, color='white')\n",
        "plt.show()"
      ],
      "execution_count": 21,
      "outputs": [
        {
          "output_type": "stream",
          "text": [
            "1    1219\n",
            "0    1195\n",
            "Name: label, dtype: int64\n",
            "Percentages :\n",
            "1    50.4971\n",
            "0    49.5029\n",
            "Name: label, dtype: float64\n"
          ],
          "name": "stdout"
        },
        {
          "output_type": "display_data",
          "data": {
            "image/png": "[encoded data removed]",
            "text/plain": [
              "<Figure size 648x432 with 1 Axes>"
            ]
          },
          "metadata": {
            "tags": []
          }
        }
      ]
    },
    {
      "cell_type": "markdown",
      "metadata": {
        "id": "_H3w63G-PWx8",
        "colab_type": "text"
      },
      "source": [
        "#Creating Custom Generator\n",
        "###We will create two different image generators, one for validation and the other for training samples\n",
        "###Data Augmentation will only be applied to training samples"
      ]
    },
    {
      "cell_type": "markdown",
      "metadata": {
        "id": "qHbA5M8mQIoa",
        "colab_type": "text"
      },
      "source": [
        "#Validation Image Generator"
      ]
    },
    {
      "cell_type": "code",
      "metadata": {
        "id": "ZwuX6E3ZQtnZ",
        "colab_type": "code",
        "colab": {
          "base_uri": "https://localhost:8080/",
          "height": 85
        },
        "outputId": "4c7d940b-7e23-4a7f-9583-ca51e00397a6"
      },
      "source": [
        "normal_xray = valid_data[valid_data['label']==0]\n",
        "pneumonia_xray = valid_data[valid_data['label']==1]\n",
        "print('Normal Validation Samples {}'.format(normal_xray['label'].value_counts()))\n",
        "print('Pneumonia Validation Samples {}'.format(pneumonia_xray['label'].value_counts()))"
      ],
      "execution_count": 22,
      "outputs": [
        {
          "output_type": "stream",
          "text": [
            "Normal Validation Samples 0    146\n",
            "Name: label, dtype: int64\n",
            "Pneumonia Validation Samples 1    122\n",
            "Name: label, dtype: int64\n"
          ],
          "name": "stdout"
        }
      ]
    },
    {
      "cell_type": "code",
      "metadata": {
        "id": "yX7fFAxlTPN9",
        "colab_type": "code",
        "colab": {}
      },
      "source": [
        "#Two lists, one containing images and the other containing labels\n",
        "val_img = []\n",
        "val_lab = []"
      ],
      "execution_count": 0,
      "outputs": []
    },
    {
      "cell_type": "code",
      "metadata": {
        "id": "0B6rXSVPQEGn",
        "colab_type": "code",
        "colab": {}
      },
      "source": [
        "#For Normal Samples\n",
        "for index, row in normal_xray.iterrows():\n",
        "#Read in image    \n",
        "    img = cv2.imread(str(row['xray']))\n",
        "#Resize   \n",
        "    img = cv2.resize(img, (224,224))\n",
        "#To RGB since CV2 reads in BGR mode  \n",
        "    img = cv2.cvtColor(img, cv2.COLOR_BGR2RGB)\n",
        "#Normalize Pixels  \n",
        "    img = img.astype(np.float32)/255.\n",
        "# To categorical [1,0] - [0,1]\n",
        "    label = to_categorical(0, num_classes=2)\n",
        "#Append to lists \n",
        "    val_img.append(img)\n",
        "    val_lab.append(label)"
      ],
      "execution_count": 0,
      "outputs": []
    },
    {
      "cell_type": "code",
      "metadata": {
        "id": "xZegMd2mPM4o",
        "colab_type": "code",
        "colab": {}
      },
      "source": [
        "#For Pneumonia Samples\n",
        "for index, row in pneumonia_xray.iterrows():\n",
        "#Read in image    \n",
        "    img = cv2.imread(str(row['xray']))\n",
        "#Resize\n",
        "    img = cv2.resize(img, (224,224))\n",
        "#To RGB since CV2 reads in BGR mode  \n",
        "    img = cv2.cvtColor(img, cv2.COLOR_BGR2RGB)\n",
        "#Normalize Pixels  \n",
        "    img = img.astype(np.float32)/255.\n",
        "# To categorical [1,0] - [0,1]\n",
        "    label = to_categorical(1, num_classes=2)\n",
        "#Append to lists\n",
        "    val_img.append(img)\n",
        "    val_lab.append(label)"
      ],
      "execution_count": 0,
      "outputs": []
    },
    {
      "cell_type": "code",
      "metadata": {
        "id": "Lv-A3qwmR-8m",
        "colab_type": "code",
        "colab": {
          "base_uri": "https://localhost:8080/",
          "height": 51
        },
        "outputId": "2378fedb-9b49-4ff2-81db-b2e38111dea4"
      },
      "source": [
        "# Converting the lists into numpy arrays\n",
        "val_img = np.array(val_img)\n",
        "val_lab = np.array(val_lab)\n",
        "print(\"Total number of validation examples: \", val_img.shape)\n",
        "print(\"Total number of labels:\", val_lab.shape)"
      ],
      "execution_count": 27,
      "outputs": [
        {
          "output_type": "stream",
          "text": [
            "Total number of validation examples:  (268, 224, 224, 3)\n",
            "Total number of labels: (268, 2)\n"
          ],
          "name": "stdout"
        }
      ]
    },
    {
      "cell_type": "markdown",
      "metadata": {
        "id": "I-Xz8DVzT3JP",
        "colab_type": "text"
      },
      "source": [
        "#Data Augmentation\n",
        "###Applied on training samples only"
      ]
    },
    {
      "cell_type": "code",
      "metadata": {
        "id": "EzaQ4qArUJL8",
        "colab_type": "code",
        "colab": {}
      },
      "source": [
        "# Augmentation sequence \n",
        "# Only on of the augmentation techniques below will be applied to one sample at random\n",
        "augment = img_aug.OneOf([\n",
        "    #scale to 80-120% of image height/width (each axis independently)\n",
        "    img_aug.Affine(scale={\"x\": (0.8, 1.2), \"y\": (0.8, 1.2)}),\n",
        "    #Gaussian blue (sigma of 1)\n",
        "    img_aug.GaussianBlur(sigma=1),\n",
        "    # Strengthen or weaken the contrast in each image.\n",
        "    img_aug.ContrastNormalization((0.75, 1.5)),\n",
        "    #random brightness\n",
        "    img_aug.Multiply((1.2, 1.5))]) "
      ],
      "execution_count": 0,
      "outputs": []
    },
    {
      "cell_type": "markdown",
      "metadata": {
        "id": "AMWQrjgjUxHg",
        "colab_type": "text"
      },
      "source": [
        "#Training Samples Custom Generator"
      ]
    },
    {
      "cell_type": "code",
      "metadata": {
        "id": "XIHpASoaU0HP",
        "colab_type": "code",
        "colab": {}
      },
      "source": [
        "\"\"\"\"\"\"\"\"\"\n",
        "From Nilesh\n",
        "Found @: https://medium.com/@ensembledme/writing-custom-keras-generators-fe815d992c5a\n",
        "\n",
        "\"\"\"\"\"\"\"\"\"\n",
        "def train_gen(train, batch_size):\n",
        "    i =0\n",
        "    training_size = len(train)\n",
        "    train_steps = training_size//batch_size\n",
        "    batch_data = np.zeros((batch_size, 224,224, 3), dtype=np.float32)\n",
        "    batch_labels = np.zeros((batch_size,2), dtype=np.float32)\n",
        "    points = np.arange(training_size)\n",
        "    while True:\n",
        "        np.random.shuffle(points)\n",
        "        counter = 0\n",
        "        next_batch = points[(i*batch_size):(i+1)*batch_size]\n",
        "        for j, index in enumerate(next_batch):\n",
        "          #Get all images\n",
        "            patient_img = train.iloc[index]['xray']\n",
        "          #Get all labels\n",
        "            label = train.iloc[index]['label'] \n",
        "          #To categorical\n",
        "            label_categorical = to_categorical(label, num_classes=2)\n",
        "          #Read in\n",
        "            img = cv2.imread(str(patient_img))\n",
        "            img = cv2.resize(img, (224,224))\n",
        "            img = cv2.cvtColor(img, cv2.COLOR_BGR2RGB)\n",
        "            img = img.astype(np.float32)/255.            \n",
        "            batch_data[counter] = img\n",
        "            batch_labels[counter] = label_categorical           \n",
        "            # Only augment of Normal samples as they are undersampled\n",
        "            if label==0 and counter < batch_size-2:\n",
        "                aug_img1 = augment.augment_image(img)\n",
        "                aug_img2 = augment.augment_image(img)\n",
        "                aug_img1 = cv2.cvtColor(aug_img1, cv2.COLOR_BGR2RGB)\n",
        "                aug_img2 = cv2.cvtColor(aug_img2, cv2.COLOR_BGR2RGB)\n",
        "                aug_img1 = aug_img1.astype(np.float32)/255.\n",
        "                aug_img2 = aug_img2.astype(np.float32)/255.\n",
        "                batch_data[counter+1] = aug_img1\n",
        "                batch_labels[counter+1] = label_categorical\n",
        "                batch_data[counter+2] = aug_img2\n",
        "                batch_labels[counter+2] = label_categorical\n",
        "                counter +=2            \n",
        "            else:\n",
        "              counter+=1           \n",
        "            if counter==batch_size-1:\n",
        "                break            \n",
        "        i+=1\n",
        "        yield batch_data, batch_labels            \n",
        "        if i>=train_steps:\n",
        "            i=0"
      ],
      "execution_count": 0,
      "outputs": []
    },
    {
      "cell_type": "markdown",
      "metadata": {
        "id": "U60jvG2PXJwb",
        "colab_type": "text"
      },
      "source": [
        "#Create Model"
      ]
    },
    {
      "cell_type": "markdown",
      "metadata": {
        "id": "2eO5pSrUXNdk",
        "colab_type": "text"
      },
      "source": [
        "###Using Transfer Learning\n",
        "* Fine tune the model"
      ]
    },
    {
      "cell_type": "markdown",
      "metadata": {
        "id": "k5slopeyjYkN",
        "colab_type": "text"
      },
      "source": [
        "###VGG 16"
      ]
    },
    {
      "cell_type": "code",
      "metadata": {
        "id": "hQfkxDFwXMN3",
        "colab_type": "code",
        "colab": {}
      },
      "source": [
        "from keras.applications.vgg16 import VGG16\n",
        "from keras.preprocessing import image\n",
        "from keras.applications.vgg16 import preprocess_input\n",
        "from keras.preprocessing import image\n",
        "\n",
        "base =VGG16(weights=None,include_top=False, input_shape=(224,224,3))\n",
        "\n",
        "x =base.output\n",
        "\n",
        "x =GlobalMaxPooling2D()(x)\n",
        "\n",
        "#Adding three dense layers to learn more complex functions\n",
        "#elu activation -> relu activation -> relu activation\n",
        "x =Dense(1024,activation='elu')(x)\n",
        "\n",
        "x =Dense(1024,activation='relu')(x)\n",
        "\n",
        "x =Dense(512,activation='relu')(x) \n",
        "\n",
        "#Last layer(softmax activation)\n",
        "preds =Dense(2,activation='softmax')(x) \n",
        "\n",
        "\n",
        "model =Model(inputs=base.input,outputs=preds)"
      ],
      "execution_count": 0,
      "outputs": []
    },
    {
      "cell_type": "markdown",
      "metadata": {
        "id": "zkhiUjCfYPdL",
        "colab_type": "text"
      },
      "source": [
        "###Freezing the first 6 layers of the model"
      ]
    },
    {
      "cell_type": "code",
      "metadata": {
        "id": "l1R8gKPlYXNo",
        "colab_type": "code",
        "colab": {}
      },
      "source": [
        "for layer in model.layers[:6]:\n",
        "    layer.trainable=False\n",
        "for layer in model.layers[6:]:\n",
        "    layer.trainable=True"
      ],
      "execution_count": 0,
      "outputs": []
    },
    {
      "cell_type": "code",
      "metadata": {
        "id": "rg2TOJ2HYcxy",
        "colab_type": "code",
        "colab": {
          "base_uri": "https://localhost:8080/",
          "height": 952
        },
        "outputId": "77108c2b-1d78-4b75-a531-6858280e456e"
      },
      "source": [
        "model.summary()"
      ],
      "execution_count": 124,
      "outputs": [
        {
          "output_type": "stream",
          "text": [
            "_________________________________________________________________\n",
            "Layer (type)                 Output Shape              Param #   \n",
            "=================================================================\n",
            "input_1 (InputLayer)         (None, 224, 224, 3)       0         \n",
            "_________________________________________________________________\n",
            "block1_conv1 (Conv2D)        (None, 224, 224, 64)      1792      \n",
            "_________________________________________________________________\n",
            "block1_conv2 (Conv2D)        (None, 224, 224, 64)      36928     \n",
            "_________________________________________________________________\n",
            "block1_pool (MaxPooling2D)   (None, 112, 112, 64)      0         \n",
            "_________________________________________________________________\n",
            "block2_conv1 (Conv2D)        (None, 112, 112, 128)     73856     \n",
            "_________________________________________________________________\n",
            "block2_conv2 (Conv2D)        (None, 112, 112, 128)     147584    \n",
            "_________________________________________________________________\n",
            "block2_pool (MaxPooling2D)   (None, 56, 56, 128)       0         \n",
            "_________________________________________________________________\n",
            "block3_conv1 (Conv2D)        (None, 56, 56, 256)       295168    \n",
            "_________________________________________________________________\n",
            "block3_conv2 (Conv2D)        (None, 56, 56, 256)       590080    \n",
            "_________________________________________________________________\n",
            "block3_conv3 (Conv2D)        (None, 56, 56, 256)       590080    \n",
            "_________________________________________________________________\n",
            "block3_pool (MaxPooling2D)   (None, 28, 28, 256)       0         \n",
            "_________________________________________________________________\n",
            "block4_conv1 (Conv2D)        (None, 28, 28, 512)       1180160   \n",
            "_________________________________________________________________\n",
            "block4_conv2 (Conv2D)        (None, 28, 28, 512)       2359808   \n",
            "_________________________________________________________________\n",
            "block4_conv3 (Conv2D)        (None, 28, 28, 512)       2359808   \n",
            "_________________________________________________________________\n",
            "block4_pool (MaxPooling2D)   (None, 14, 14, 512)       0         \n",
            "_________________________________________________________________\n",
            "block5_conv1 (Conv2D)        (None, 14, 14, 512)       2359808   \n",
            "_________________________________________________________________\n",
            "block5_conv2 (Conv2D)        (None, 14, 14, 512)       2359808   \n",
            "_________________________________________________________________\n",
            "block5_conv3 (Conv2D)        (None, 14, 14, 512)       2359808   \n",
            "_________________________________________________________________\n",
            "block5_pool (MaxPooling2D)   (None, 7, 7, 512)         0         \n",
            "_________________________________________________________________\n",
            "global_max_pooling2d_1 (Glob (None, 512)               0         \n",
            "_________________________________________________________________\n",
            "dense_1 (Dense)              (None, 1024)              525312    \n",
            "_________________________________________________________________\n",
            "dense_2 (Dense)              (None, 1024)              1049600   \n",
            "_________________________________________________________________\n",
            "dense_3 (Dense)              (None, 512)               524800    \n",
            "_________________________________________________________________\n",
            "dense_4 (Dense)              (None, 2)                 1026      \n",
            "=================================================================\n",
            "Total params: 16,815,426\n",
            "Trainable params: 16,555,266\n",
            "Non-trainable params: 260,160\n",
            "_________________________________________________________________\n"
          ],
          "name": "stdout"
        }
      ]
    },
    {
      "cell_type": "code",
      "metadata": {
        "id": "lFsPoFoaYisy",
        "colab_type": "code",
        "colab": {}
      },
      "source": [
        "def model_plots(history):\n",
        "    \n",
        "    plt.plot(fitting.history['acc'])\n",
        "    plt.plot(fitting.history['val_acc'])\n",
        "    plt.title('Model accuracy', color = 'white')\n",
        "    plt.ylabel('Accuracy',  color = 'white')\n",
        "    plt.xlabel('Epoch',  color = 'white')\n",
        "    plt.legend(['Training Accuracy', 'Validation Accuracy'], loc='upper left')\n",
        "    plt.show()\n",
        "\n",
        "    # Plot training & validation loss values\n",
        "    plt.plot(fitting.history['loss'])\n",
        "    plt.plot(fitting.history['val_loss'])\n",
        "    plt.title('Model loss', color = 'white')\n",
        "    plt.ylabel('Loss', color = 'white')\n",
        "    plt.xlabel('Epoch', color = 'white')\n",
        "    plt.legend(['Training Loss', 'Validation Loss'], loc='upper left')\n",
        "    plt.show()"
      ],
      "execution_count": 0,
      "outputs": []
    },
    {
      "cell_type": "code",
      "metadata": {
        "id": "saOf29C1YzfM",
        "colab_type": "code",
        "colab": {}
      },
      "source": [
        "# Define the number of training steps\n",
        "nb_train_steps = train_data.shape[0]//batch_size\n",
        "nb_valid_steps = val_img.shape[0]//batch_size\n",
        "print(\"Number of training steps is:  {}   Number of validation steps is:  {}\".format(nb_train_steps, nb_valid_steps))\n",
        "print(train_data.shape[0])\n",
        "print(batch_size)\n",
        "#print(train_data_gen)\n",
        "print(train_data.shape[0]//batch_size)"
      ],
      "execution_count": 0,
      "outputs": []
    },
    {
      "cell_type": "code",
      "metadata": {
        "id": "f9eDgzvqY9Ea",
        "colab_type": "code",
        "colab": {}
      },
      "source": [
        "#stop training if no improvements are seen\n",
        "#Patience of 4\n",
        "early_stop = EarlyStopping(monitor=\"val_loss\",\n",
        "\t\t                           mode=\"min\",\n",
        "\t\t                           patience=4,\n",
        "\t\t                           restore_best_weights=True)\n",
        "\n",
        "#reduce Learning rate if no imporovement within 2 ephocs\n",
        "lr_reduce = ReduceLROnPlateau(monitor='val_loss',\n",
        "                                  patience=2,\n",
        "                                  verbose=1,\n",
        "                                  factor=0.5,\n",
        "                                  min_lr=0.0000001)\n",
        "\n",
        "# saves best model weights to file\n",
        "checkpoint = ModelCheckpoint('../drive/My Drive/Colab Notebooks/chest_xray/Best',\n",
        "\t\t                             monitor='val_loss',\n",
        "\t\t                             verbose=1,\n",
        "\t\t                             save_best_only=True,\n",
        "\t\t                             mode='min',\n",
        "\t\t                             save_weights_only=True)"
      ],
      "execution_count": 0,
      "outputs": []
    },
    {
      "cell_type": "code",
      "metadata": {
        "id": "CpOlYraqY-0P",
        "colab_type": "code",
        "colab": {}
      },
      "source": [
        "batch_size = 16\n",
        "model.compile(loss='binary_crossentropy', metrics=['accuracy'],optimizer= RMSprop(lr=0.00001, decay=1e-6))"
      ],
      "execution_count": 0,
      "outputs": []
    },
    {
      "cell_type": "code",
      "metadata": {
        "id": "U7MyoOIkZAci",
        "colab_type": "code",
        "colab": {}
      },
      "source": [
        "fitting = model.fit_generator(train_gen(train_data, batch_size), \n",
        "                              epochs=14, verbose=1,\n",
        "                              steps_per_epoch=train_data.shape[0]//batch_size, \n",
        "                              validation_data= (val_img,val_lab),\n",
        "                              validation_steps=val_img.shape[0]//batch_size,\n",
        "                              callbacks=[early_stop,lr_reduce],\n",
        "                              class_weight={0:1.0, 1:0.4})"
      ],
      "execution_count": 0,
      "outputs": []
    },
    {
      "cell_type": "code",
      "metadata": {
        "id": "UVQr8y5pdNVW",
        "colab_type": "code",
        "colab": {}
      },
      "source": [
        "model_plots(fitting)"
      ],
      "execution_count": 0,
      "outputs": []
    },
    {
      "cell_type": "markdown",
      "metadata": {
        "id": "zt-LhlDJdXZt",
        "colab_type": "text"
      },
      "source": [
        "#Load Best Performing Model Weights"
      ]
    },
    {
      "cell_type": "code",
      "metadata": {
        "id": "TFqvLnLTdR9z",
        "colab_type": "code",
        "colab": {}
      },
      "source": [
        "#Load The model Weights\n",
        "model.load_weights(\"../content/drive/My Drive/Colab Notebooks/chest_xray/VGG16-94Recall.h5\")"
      ],
      "execution_count": 0,
      "outputs": []
    },
    {
      "cell_type": "markdown",
      "metadata": {
        "id": "J5DWuV1hdxY0",
        "colab_type": "text"
      },
      "source": [
        "#Evalute Model on test samples"
      ]
    },
    {
      "cell_type": "markdown",
      "metadata": {
        "id": "VIJVU50Jd1Tw",
        "colab_type": "text"
      },
      "source": [
        "###Analyse test data"
      ]
    },
    {
      "cell_type": "code",
      "metadata": {
        "id": "xKzXA6RXdRsg",
        "colab_type": "code",
        "colab": {}
      },
      "source": [
        "#Get all The images in the Test Normal Directory\n",
        "test_normal =  Path(\"../content/drive/My Drive/Colab Notebooks/chest_xray/test/NORMAL/\").glob('*.jpeg')\n",
        "\n",
        "#Get all the images in the TestPneumonia Directory\n",
        "test_pneumonia =  Path(\"../content/drive/My Drive/Colab Notebooks/chest_xray/test/PNEUMONIA/\").glob('*.jpeg')"
      ],
      "execution_count": 0,
      "outputs": []
    },
    {
      "cell_type": "code",
      "metadata": {
        "id": "sflonZN6d8P-",
        "colab_type": "code",
        "colab": {}
      },
      "source": [
        "#Create list to contain all images, as well as their labels\n",
        "test_images = []"
      ],
      "execution_count": 0,
      "outputs": []
    },
    {
      "cell_type": "code",
      "metadata": {
        "id": "AFKrvqQceMe6",
        "colab_type": "code",
        "colab": {}
      },
      "source": [
        "#Appending Normal Images to list, with label = 0\n",
        "for img in test_normal:\n",
        "    test_images.append((img,0))\n",
        "    \n",
        "#Appending Pneumonia Images to list, with label = 1\n",
        "for img in test_pneumonia:\n",
        "    test_images.append((img,1))"
      ],
      "execution_count": 0,
      "outputs": []
    },
    {
      "cell_type": "code",
      "metadata": {
        "id": "4M_CXwA7ehHg",
        "colab_type": "code",
        "colab": {}
      },
      "source": [
        "#Shuffling the data    \n",
        "random.shuffle(test_images)\n",
        "\n",
        "#create a datframe with columns xray and label\n",
        "test_images = pd.DataFrame(test_images, columns=['xray', 'label'],index=None)"
      ],
      "execution_count": 0,
      "outputs": []
    },
    {
      "cell_type": "code",
      "metadata": {
        "id": "bJKw3oz3epr7",
        "colab_type": "code",
        "colab": {
          "base_uri": "https://localhost:8080/",
          "height": 255
        },
        "outputId": "10c097fe-675f-43ad-8a54-f36fa4d11a45"
      },
      "source": [
        "print(test_images['label'].value_counts())\n",
        "test_images.head()"
      ],
      "execution_count": 52,
      "outputs": [
        {
          "output_type": "stream",
          "text": [
            "1    390\n",
            "0    234\n",
            "Name: label, dtype: int64\n"
          ],
          "name": "stdout"
        },
        {
          "output_type": "execute_result",
          "data": {
            "text/html": [
              "<div>\n",
              "<style scoped>\n",
              "    .dataframe tbody tr th:only-of-type {\n",
              "        vertical-align: middle;\n",
              "    }\n",
              "\n",
              "    .dataframe tbody tr th {\n",
              "        vertical-align: top;\n",
              "    }\n",
              "\n",
              "    .dataframe thead th {\n",
              "        text-align: right;\n",
              "    }\n",
              "</style>\n",
              "<table border=\"1\" class=\"dataframe\">\n",
              "  <thead>\n",
              "    <tr style=\"text-align: right;\">\n",
              "      <th></th>\n",
              "      <th>xray</th>\n",
              "      <th>label</th>\n",
              "    </tr>\n",
              "  </thead>\n",
              "  <tbody>\n",
              "    <tr>\n",
              "      <th>0</th>\n",
              "      <td>../content/drive/My Drive/Colab Notebooks/ches...</td>\n",
              "      <td>1</td>\n",
              "    </tr>\n",
              "    <tr>\n",
              "      <th>1</th>\n",
              "      <td>../content/drive/My Drive/Colab Notebooks/ches...</td>\n",
              "      <td>1</td>\n",
              "    </tr>\n",
              "    <tr>\n",
              "      <th>2</th>\n",
              "      <td>../content/drive/My Drive/Colab Notebooks/ches...</td>\n",
              "      <td>1</td>\n",
              "    </tr>\n",
              "    <tr>\n",
              "      <th>3</th>\n",
              "      <td>../content/drive/My Drive/Colab Notebooks/ches...</td>\n",
              "      <td>0</td>\n",
              "    </tr>\n",
              "    <tr>\n",
              "      <th>4</th>\n",
              "      <td>../content/drive/My Drive/Colab Notebooks/ches...</td>\n",
              "      <td>1</td>\n",
              "    </tr>\n",
              "  </tbody>\n",
              "</table>\n",
              "</div>"
            ],
            "text/plain": [
              "                                                xray  label\n",
              "0  ../content/drive/My Drive/Colab Notebooks/ches...      1\n",
              "1  ../content/drive/My Drive/Colab Notebooks/ches...      1\n",
              "2  ../content/drive/My Drive/Colab Notebooks/ches...      1\n",
              "3  ../content/drive/My Drive/Colab Notebooks/ches...      0\n",
              "4  ../content/drive/My Drive/Colab Notebooks/ches...      1"
            ]
          },
          "metadata": {
            "tags": []
          },
          "execution_count": 52
        }
      ]
    },
    {
      "cell_type": "markdown",
      "metadata": {
        "id": "TITJLQjffCiE",
        "colab_type": "text"
      },
      "source": [
        "##Create Test Data generator"
      ]
    },
    {
      "cell_type": "code",
      "metadata": {
        "id": "FZh4rg-5esJT",
        "colab_type": "code",
        "colab": {
          "base_uri": "https://localhost:8080/",
          "height": 85
        },
        "outputId": "1161f678-8080-4d61-e6c7-d39ee5b4f78e"
      },
      "source": [
        "normal_test = test_images[test_images['label']==0]\n",
        "pneumonia_test = test_images[test_images['label']==1]\n",
        "print('Normal Test Samples {}'.format(normal_test['label'].value_counts()))\n",
        "print('Pneumonia Test Samples {}'.format(pneumonia_test['label'].value_counts()))"
      ],
      "execution_count": 54,
      "outputs": [
        {
          "output_type": "stream",
          "text": [
            "Normal Test Samples 0    234\n",
            "Name: label, dtype: int64\n",
            "Pneumonia Test Samples 1    390\n",
            "Name: label, dtype: int64\n"
          ],
          "name": "stdout"
        }
      ]
    },
    {
      "cell_type": "code",
      "metadata": {
        "id": "tb7jdWg5fZBs",
        "colab_type": "code",
        "colab": {}
      },
      "source": [
        "#Two lists, one containing images and the other containing labels\n",
        "test_img = []\n",
        "test_lab = []"
      ],
      "execution_count": 0,
      "outputs": []
    },
    {
      "cell_type": "code",
      "metadata": {
        "id": "cdxK2g5PfkuD",
        "colab_type": "code",
        "colab": {}
      },
      "source": [
        "#For Normal Test Samples\n",
        "for index, row in normal_test.iterrows():\n",
        "#Read in image    \n",
        "    img = cv2.imread(str(row['xray']))\n",
        "#Resize   \n",
        "    img = cv2.resize(img, (224,224))\n",
        "#To RGB since CV2 reads in BGR mode  \n",
        "    img = cv2.cvtColor(img, cv2.COLOR_BGR2RGB)\n",
        "#Normalize Pixels  \n",
        "    img = img.astype(np.float32)/255.\n",
        "# To categorical [1,0] - [0,1]\n",
        "    label = to_categorical(0, num_classes=2)\n",
        "#Append to lists \n",
        "    test_img.append(img)\n",
        "    test_lab.append(label)"
      ],
      "execution_count": 0,
      "outputs": []
    },
    {
      "cell_type": "code",
      "metadata": {
        "id": "rGXTyCKufwea",
        "colab_type": "code",
        "colab": {}
      },
      "source": [
        "#For Pneumonia test Samples\n",
        "for index, row in pneumonia_test.iterrows():\n",
        "#Read in image    \n",
        "    img = cv2.imread(str(row['xray']))\n",
        "#Resize\n",
        "    img = cv2.resize(img, (224,224))\n",
        "#To RGB since CV2 reads in BGR mode  \n",
        "    img = cv2.cvtColor(img, cv2.COLOR_BGR2RGB)\n",
        "#Normalize Pixels  \n",
        "    img = img.astype(np.float32)/255.\n",
        "# To categorical [1,0] - [0,1]\n",
        "    label = to_categorical(1, num_classes=2)\n",
        "#Append to lists\n",
        "    test_img.append(img)\n",
        "    test_lab.append(label)"
      ],
      "execution_count": 0,
      "outputs": []
    },
    {
      "cell_type": "code",
      "metadata": {
        "id": "OCEVDqLrgAvr",
        "colab_type": "code",
        "colab": {
          "base_uri": "https://localhost:8080/",
          "height": 51
        },
        "outputId": "63e0247b-e928-4f6a-99b1-3a7e0fdde609"
      },
      "source": [
        "# Converting the lists into numpy arrays\n",
        "test_img = np.array(test_img)\n",
        "test_lab = np.array(test_lab)\n",
        "print(\"Total number of test examples: \", test_img.shape)\n",
        "print(\"Total number of labels:\", test_lab.shape)"
      ],
      "execution_count": 58,
      "outputs": [
        {
          "output_type": "stream",
          "text": [
            "Total number of test examples:  (624, 224, 224, 3)\n",
            "Total number of labels: (624, 2)\n"
          ],
          "name": "stdout"
        }
      ]
    },
    {
      "cell_type": "markdown",
      "metadata": {
        "id": "lRHH-wDnhGPr",
        "colab_type": "text"
      },
      "source": [
        "##Evaluate the model on Test samples"
      ]
    },
    {
      "cell_type": "code",
      "metadata": {
        "id": "_nSEW-cqg0_n",
        "colab_type": "code",
        "colab": {
          "base_uri": "https://localhost:8080/",
          "height": 68
        },
        "outputId": "5bad3e56-66a0-416b-c36d-4e3f3ca7ff13"
      },
      "source": [
        "t_loss, t_score = model.evaluate(test_img, test_lab, batch_size=16)\n",
        "\n",
        "print(\"Accuracy on test samples: \", t_score)\n",
        "print(\"Loss on test samples: \", t_loss)"
      ],
      "execution_count": 140,
      "outputs": [
        {
          "output_type": "stream",
          "text": [
            "624/624 [==============================] - 6s 10ms/step\n",
            "Accuracy on test samples:  0.9230769230769231\n",
            "Loss on test samples:  0.25891053284972143\n"
          ],
          "name": "stdout"
        }
      ]
    },
    {
      "cell_type": "markdown",
      "metadata": {
        "id": "2EbYn_30hKsG",
        "colab_type": "text"
      },
      "source": [
        "#Results Analysis\n",
        "* Confusion Matrix\n",
        "* Precision\n",
        "* Recall\n",
        "* F1 Score\n",
        "* ROC Curve"
      ]
    },
    {
      "cell_type": "code",
      "metadata": {
        "id": "OFco1_34hKGG",
        "colab_type": "code",
        "colab": {
          "base_uri": "https://localhost:8080/",
          "height": 51
        },
        "outputId": "aa7a8368-9baf-4085-e1e2-f27e68b76531"
      },
      "source": [
        "predictions = model.predict(test_img, batch_size=16)\n",
        "predictions = np.argmax(predictions, axis=-1)\n",
        "\n",
        "# Actual labels\n",
        "orig_test_labels = np.argmax(test_lab, axis=-1)\n",
        "\n",
        "print(orig_test_labels.shape)\n",
        "print(predictions.shape)"
      ],
      "execution_count": 141,
      "outputs": [
        {
          "output_type": "stream",
          "text": [
            "(624,)\n",
            "(624,)\n"
          ],
          "name": "stdout"
        }
      ]
    },
    {
      "cell_type": "markdown",
      "metadata": {
        "id": "UbUNfYMyhp6z",
        "colab_type": "text"
      },
      "source": [
        "##Confusion Matrix"
      ]
    },
    {
      "cell_type": "code",
      "metadata": {
        "id": "Z37wbxjvhSgi",
        "colab_type": "code",
        "colab": {
          "base_uri": "https://localhost:8080/",
          "height": 522
        },
        "outputId": "437433a3-65f6-4fde-f016-f6c9a2b9ea34"
      },
      "source": [
        "conf_matrix  = confusion_matrix(orig_test_labels, predictions)\n",
        "plt.figure()\n",
        "plot_confusion_matrix(conf_matrix,figsize=(12,8), hide_ticks=True, cmap=plt.cm.Blues)\n",
        "plt.xticks(range(2), ['Normal', 'Pneumonia'], fontsize=16,color ='white')\n",
        "plt.yticks(range(2), ['Normal', 'Pneumonia'], fontsize=16,color ='white')\n",
        "plt.show()"
      ],
      "execution_count": 142,
      "outputs": [
        {
          "output_type": "display_data",
          "data": {
            "text/plain": [
              "<Figure size 432x288 with 0 Axes>"
            ]
          },
          "metadata": {
            "tags": []
          }
        },
        {
          "output_type": "display_data",
          "data": {
            "image/png": "[encoded data removed]",
            "text/plain": [
              "<Figure size 864x576 with 1 Axes>"
            ]
          },
          "metadata": {
            "tags": []
          }
        }
      ]
    },
    {
      "cell_type": "markdown",
      "metadata": {
        "id": "ZBHk3cXHhrsL",
        "colab_type": "text"
      },
      "source": [
        "##Precision, Recall and F1 Score"
      ]
    },
    {
      "cell_type": "code",
      "metadata": {
        "id": "M24hSugEhvRc",
        "colab_type": "code",
        "colab": {
          "base_uri": "https://localhost:8080/",
          "height": 68
        },
        "outputId": "e0f722a0-e015-476a-bc67-dc92351e0819"
      },
      "source": [
        "true_neg, false_pos, false_neg, true_pos = conf_matrix.ravel()\n",
        "\n",
        "precision = true_pos/(true_pos+false_pos)\n",
        "recall = true_pos/(true_pos+false_neg)\n",
        "f1_score= (2*precision*recall)/(precision+recall)\n",
        "\n",
        "print(\"Recall of the model is {:.2f}\".format(recall))\n",
        "print(\"Precision of the model is {:.2f}\".format(precision))\n",
        "print(\"f1_score of the model is {:.2f}\".format(f1_score))"
      ],
      "execution_count": 143,
      "outputs": [
        {
          "output_type": "stream",
          "text": [
            "Recall of the model is 0.96\n",
            "Precision of the model is 0.92\n",
            "f1_score of the model is 0.94\n"
          ],
          "name": "stdout"
        }
      ]
    },
    {
      "cell_type": "markdown",
      "metadata": {
        "id": "dLlp49PYimFw",
        "colab_type": "text"
      },
      "source": [
        "##ROC Curve"
      ]
    },
    {
      "cell_type": "code",
      "metadata": {
        "id": "PnT4J_1AiELd",
        "colab_type": "code",
        "colab": {
          "base_uri": "https://localhost:8080/",
          "height": 295
        },
        "outputId": "a3a54061-dff4-44d8-9e5d-e6fb76d93bc6"
      },
      "source": [
        "from sklearn.metrics import (precision_recall_curve, auc, roc_curve,\n",
        "                             recall_score,\n",
        "                             classification_report,\n",
        "                             f1_score,\n",
        "                             precision_recall_fscore_support)\n",
        "fpr, tpr, thresholds = roc_curve(orig_test_labels,predictions)\n",
        "roc_auc = auc(fpr, tpr)\n",
        "\n",
        "plt.title('ROC', color='white')\n",
        "plt.plot(fpr,tpr,label='AUC = %0.4f'%roc_auc)\n",
        "plt.legend(loc='lower right')\n",
        "plt.plot([0,1],[0,1],'r--')\n",
        "plt.xlim([-0.001,1])\n",
        "plt.ylim([0, 1.001])\n",
        "plt.ylabel('True Pos Rate', color='white')\n",
        "plt.xlabel('Flase Pos Rate', color='white')\n",
        "plt.show()"
      ],
      "execution_count": 144,
      "outputs": [
        {
          "output_type": "display_data",
          "data": {
            "image/png": "[encoded data removed]",
            "text/plain": [
              "<Figure size 432x288 with 1 Axes>"
            ]
          },
          "metadata": {
            "tags": []
          }
        }
      ]
    },
    {
      "cell_type": "markdown",
      "metadata": {
        "id": "BDFHVtdki1jZ",
        "colab_type": "text"
      },
      "source": [
        "##Upload X_Ray for prediction"
      ]
    },
    {
      "cell_type": "code",
      "metadata": {
        "id": "u8BGao_3i5OV",
        "colab_type": "code",
        "colab": {
          "resources": {
            "http://localhost:8080/nbextensions/google.colab/files.js": {
              "data": "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",
              "ok": true,
              "headers": [
                [
                  "content-type",
                  "application/javascript"
                ]
              ],
              "status": 200,
              "status_text": ""
            }
          },
          "base_uri": "https://localhost:8080/",
          "height": 108
        },
        "outputId": "58854145-fec9-41a6-cec0-3638dc1f699e"
      },
      "source": [
        "from google.colab import files\n",
        "from keras.preprocessing import image\n",
        "p_list = []\n",
        "\n",
        "uploaded = files.upload()\n",
        "\n",
        "for fn in uploaded.keys():\n",
        "  path = fn\n",
        "  pred_img = image.load_img(fn, target_size=(224,224))\n",
        "  pred_img = image.img_to_array(pred_img)\n",
        "  if pred_img.shape[2]==1:\n",
        "    pred_img = np.dstack([pred_img, pred_img, pred_img])\n",
        "  pred_img = cv2.cvtColor(pred_img, cv2.COLOR_BGR2RGB)\n",
        "  pred_img = pred_img.astype(np.float32)/255.\n",
        "  p_list.append(pred_img)\n",
        "  p_list= np.array(p_list)\n",
        "  classes = model.predict(p_list, batch_size=16)\n",
        "  classes= np.argmax(classes, axis=-1)\n",
        "  if (classes ==1):\n",
        "    print('pneumonia', classes)\n",
        "  else:\n",
        "    print(fn)\n",
        "    print('normal',classes)"
      ],
      "execution_count": 72,
      "outputs": [
        {
          "output_type": "display_data",
          "data": {
            "text/html": [
              "\n",
              "     <input type=\"file\" id=\"files-46aaa0e8-dc00-46f0-b30f-d40544bb2138\" name=\"files[]\" multiple disabled />\n",
              "     <output id=\"result-46aaa0e8-dc00-46f0-b30f-d40544bb2138\">\n",
              "      Upload widget is only available when the cell has been executed in the\n",
              "      current browser session. Please rerun this cell to enable.\n",
              "      </output>\n",
              "      <script src=\"/nbextensions/google.colab/files.js\"></script> "
            ],
            "text/plain": [
              "<IPython.core.display.HTML object>"
            ]
          },
          "metadata": {
            "tags": []
          }
        },
        {
          "output_type": "stream",
          "text": [
            "Saving h2.jpg to h2.jpg\n",
            "h2.jpg\n",
            "normal [0]\n"
          ],
          "name": "stdout"
        }
      ]
    }
  ]
}